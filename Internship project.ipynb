{
 "cells": [
  {
   "cell_type": "code",
   "execution_count": 1,
   "id": "2dc7b646-1c91-428d-9fc8-cb40cd1cbd9c",
   "metadata": {},
   "outputs": [],
   "source": [
    "from flask import Flask, request, jsonify\n",
    "import sqlite3\n",
    "\n",
    "app = Flask(__name__)\n",
    "DB_NAME = \"muhasebe.db\""
   ]
  },
  {
   "cell_type": "code",
   "execution_count": 2,
   "id": "f1c0b59b-afa8-450b-976c-db0318f12fb7",
   "metadata": {},
   "outputs": [],
   "source": [
    "def veritabani_olustur():\n",
    "    with sqlite3.connect(DB_NAME) as conn:\n",
    "        cursor = conn.cursor()\n",
    "        cursor.execute('''\n",
    "            CREATE TABLE IF NOT EXISTS musteriler (\n",
    "                id INTEGER PRIMARY KEY AUTOINCREMENT,\n",
    "                ad TEXT,\n",
    "                email TEXT,\n",
    "                telefon TEXT\n",
    "            )\n",
    "        ''')\n",
    "        cursor.execute('''\n",
    "            CREATE TABLE IF NOT EXISTS odemeler (\n",
    "                id INTEGER PRIMARY KEY AUTOINCREMENT,\n",
    "                musteri_id INTEGER,\n",
    "                odeme_tarihi TEXT,\n",
    "                odeme_tutari REAL,\n",
    "                aciklama TEXT,\n",
    "                FOREIGN KEY(musteri_id) REFERENCES musteriler(id)\n",
    "            )\n",
    "        ''')\n",
    "        cursor.execute('''\n",
    "            CREATE TABLE IF NOT EXISTS faturalar (\n",
    "                id INTEGER PRIMARY KEY AUTOINCREMENT,\n",
    "                musteri_id INTEGER,\n",
    "                fatura_tarihi TEXT,\n",
    "                toplam_tutar REAL,\n",
    "                aciklama TEXT,\n",
    "                FOREIGN KEY(musteri_id) REFERENCES musteriler(id)\n",
    "            )\n",
    "        ''')\n",
    "        cursor.execute('''\n",
    "            CREATE TABLE IF NOT EXISTS cari_hareket (\n",
    "                id INTEGER PRIMARY KEY AUTOINCREMENT,\n",
    "                musteri_id INTEGER,\n",
    "                tarih TEXT,\n",
    "                islem_turu TEXT CHECK(islem_turu IN ('borc', 'alacak')),\n",
    "                tutar REAL,\n",
    "                aciklama TEXT,\n",
    "                FOREIGN KEY(musteri_id) REFERENCES musteriler(id)\n",
    "            )\n",
    "        ''')"
   ]
  },
  {
   "cell_type": "markdown",
   "id": "33f033e4-7296-4375-9adf-0ddc7610ddf1",
   "metadata": {},
   "source": [
    "## Müşteri Endpointleri "
   ]
  },
  {
   "cell_type": "code",
   "execution_count": 3,
   "id": "2efa1ea8-f8b8-4c47-aee5-7948d2aaa942",
   "metadata": {},
   "outputs": [],
   "source": [
    "@app.route('/musteri_ekle', methods=['POST'])\n",
    "def musteri_ekle():\n",
    "    data = request.get_json()\n",
    "    if not data or not all(k in data for k in ('ad', 'email', 'telefon')):\n",
    "        return jsonify({'hata': 'Eksik alan'}), 400\n",
    "    with sqlite3.connect(DB_NAME) as conn:\n",
    "        conn.execute('INSERT INTO musteriler (ad, email, telefon) VALUES (?, ?, ?)',\n",
    "                     (data['ad'], data['email'], data['telefon']))\n",
    "        conn.commit()\n",
    "    return {'mesaj': 'Müşteri eklendi'}"
   ]
  },
  {
   "cell_type": "code",
   "execution_count": 4,
   "id": "129e96d7-dc33-4600-b27d-554de0e12303",
   "metadata": {},
   "outputs": [],
   "source": [
    "@app.route('/musteri_guncelle/<int:musteri_id>', methods=['PUT'])\n",
    "def musteri_guncelle(musteri_id):\n",
    "    data = request.get_json()\n",
    "    if not data or not all(k in data for k in ('ad', 'email', 'telefon')):\n",
    "        return jsonify({'hata': 'Eksik alan'}), 400\n",
    "    with sqlite3.connect(DB_NAME) as conn:\n",
    "        conn.execute('''\n",
    "            UPDATE musteriler\n",
    "            SET ad = ?, email = ?, telefon = ?\n",
    "            WHERE id = ?\n",
    "        ''', (data['ad'], data['email'], data['telefon'], musteri_id))\n",
    "        conn.commit()\n",
    "    return {'mesaj': 'Müşteri bilgileri güncellendi'}"
   ]
  },
  {
   "cell_type": "code",
   "execution_count": 5,
   "id": "ba98ba54-8381-4405-9864-344c0f0e1d4d",
   "metadata": {},
   "outputs": [],
   "source": [
    "@app.route('/musteriler', methods=['GET'])\n",
    "def musteriler():\n",
    "    with sqlite3.connect(DB_NAME) as conn:\n",
    "        conn.row_factory = sqlite3.Row\n",
    "        cursor = conn.cursor()\n",
    "        cursor.execute('SELECT * FROM musteriler')\n",
    "        musteriler = [dict(row) for row in cursor.fetchall()]\n",
    "    return jsonify(musteriler)"
   ]
  },
  {
   "cell_type": "code",
   "execution_count": 6,
   "id": "63446a30-5f92-41d0-a032-292e16e9e124",
   "metadata": {},
   "outputs": [],
   "source": [
    "@app.route('/musteri/<int:musteri_id>', methods=['GET'])\n",
    "def musteri_bilgisi(musteri_id):\n",
    "    with sqlite3.connect(DB_NAME) as conn:\n",
    "        conn.row_factory = sqlite3.Row\n",
    "        cursor = conn.cursor()\n",
    "        cursor.execute('SELECT * FROM musteriler WHERE id = ?', (musteri_id,))\n",
    "        row = cursor.fetchone()\n",
    "        if not row:\n",
    "            return jsonify({'hata': 'Müşteri bulunamadı'}), 404\n",
    "    return jsonify(dict(row))"
   ]
  },
  {
   "cell_type": "markdown",
   "id": "fe65e8ac-204d-4476-9a16-bccb75bb889f",
   "metadata": {},
   "source": [
    "## Fatura Endpoitleri"
   ]
  },
  {
   "cell_type": "code",
   "execution_count": 7,
   "id": "129cd5c9-9ac7-4e51-82b3-b0a07f8402c9",
   "metadata": {},
   "outputs": [],
   "source": [
    "@app.route('/fatura_ekle', methods=['POST'])\n",
    "def fatura_ekle():\n",
    "    data = request.get_json()\n",
    "    if not data or not all(k in data for k in ('musteri_id', 'fatura_tarihi', 'toplam_tutar', 'aciklama')):\n",
    "        return jsonify({'hata': 'Eksik alan'}), 400\n",
    "    with sqlite3.connect(DB_NAME) as conn:\n",
    "        cursor = conn.cursor()\n",
    "        cursor.execute('INSERT INTO faturalar (musteri_id, fatura_tarihi, toplam_tutar, aciklama) VALUES (?, ?, ?, ?)',\n",
    "                       (data['musteri_id'], data['fatura_tarihi'], data['toplam_tutar'], data['aciklama']))\n",
    "        # Cari hareket olarak borç ekle\n",
    "        cursor.execute('INSERT INTO cari_hareket (musteri_id, tarih, islem_turu, tutar, aciklama) VALUES (?, ?, ?, ?, ?)',\n",
    "               (data['musteri_id'], data['fatura_tarihi'], 'borc', data['toplam_tutar'], f\"Fatura ID {cursor.lastrowid}: {data['aciklama']}\"))\n",
    "\n",
    "        conn.commit()\n",
    "    return {'mesaj': 'Fatura ve cari hareket eklendi'}"
   ]
  },
  {
   "cell_type": "code",
   "execution_count": 8,
   "id": "f2933e79-9ae9-4d42-af5c-cdc1cb9dd5ab",
   "metadata": {},
   "outputs": [],
   "source": [
    "@app.route('/fatura_guncelle/<int:fatura_id>', methods=['PUT'])\n",
    "def fatura_guncelle(fatura_id):\n",
    "    data = request.get_json()\n",
    "    if not data or not all(k in data for k in ('musteri_id', 'fatura_tarihi', 'toplam_tutar', 'aciklama')):\n",
    "        return jsonify({'hata': 'Eksik alan'}), 400\n",
    "    with sqlite3.connect(DB_NAME) as conn:\n",
    "        cursor = conn.cursor()\n",
    "        # Önce faturayı güncelle\n",
    "        cursor.execute('''\n",
    "            UPDATE faturalar\n",
    "            SET musteri_id = ?, fatura_tarihi = ?, toplam_tutar = ?, aciklama = ?\n",
    "            WHERE id = ?\n",
    "        ''', (data['musteri_id'], data['fatura_tarihi'], data['toplam_tutar'], data['aciklama'], fatura_id))\n",
    "\n",
    "        # Cari hareket güncelle (Fatura ID'ye göre arama)\n",
    "        cursor.execute('''\n",
    "            UPDATE cari_hareket\n",
    "            SET musteri_id = ?, tarih = ?, tutar = ?, aciklama = ?\n",
    "            WHERE islem_turu = 'borc' AND aciklama LIKE ?\n",
    "        ''', (data['musteri_id'], data['fatura_tarihi'], data['toplam_tutar'], f\"Fatura ID {fatura_id}: {data['aciklama']}\", f\"%Fatura ID {fatura_id}:%\"))\n",
    "        # Not: Eğer cari_harekette fatura_id ile bağlantı yoksa, bu kısım daha gelişmiş hale getirilmeli\n",
    "        conn.commit()\n",
    "    return {'mesaj': 'Fatura ve cari hareket güncellendi'}"
   ]
  },
  {
   "cell_type": "code",
   "execution_count": 9,
   "id": "93549217-20c9-40c7-b5bb-577a10e9d8b4",
   "metadata": {},
   "outputs": [],
   "source": [
    "@app.route('/musteri/<int:musteri_id>/faturalar', methods=['GET'])\n",
    "def musterinin_faturalari(musteri_id):\n",
    "    with sqlite3.connect(DB_NAME) as conn:\n",
    "        conn.row_factory = sqlite3.Row\n",
    "        cursor = conn.cursor()\n",
    "        cursor.execute('SELECT * FROM faturalar WHERE musteri_id = ?', (musteri_id,))\n",
    "        faturalar = [dict(row) for row in cursor.fetchall()]\n",
    "    return jsonify(faturalar)\n"
   ]
  },
  {
   "cell_type": "markdown",
   "id": "877a64af-3629-439f-818b-284a03c7ab29",
   "metadata": {},
   "source": [
    "## Ödeme Endpointleri"
   ]
  },
  {
   "cell_type": "code",
   "execution_count": 10,
   "id": "83374a18-23c0-4fd4-92ae-8d9558722b2b",
   "metadata": {},
   "outputs": [],
   "source": [
    "@app.route('/odeme_ekle', methods=['POST'])\n",
    "def odeme_ekle():\n",
    "    data = request.get_json()\n",
    "    if not data or not all(k in data for k in ('musteri_id', 'odeme_tarihi', 'odeme_tutari', 'aciklama')):\n",
    "        return jsonify({'hata': 'Eksik alan'}), 400\n",
    "    with sqlite3.connect(DB_NAME) as conn:\n",
    "        cursor = conn.cursor()\n",
    "        cursor.execute('INSERT INTO odemeler (musteri_id, odeme_tarihi, odeme_tutari, aciklama) VALUES (?, ?, ?, ?)',\n",
    "                       (data['musteri_id'], data['odeme_tarihi'], data['odeme_tutari'], data['aciklama']))\n",
    "        # Cari hareket olarak alacak ekle\n",
    "        cursor.execute('INSERT INTO cari_hareket (musteri_id, tarih, islem_turu, tutar, aciklama) VALUES (?, ?, ?, ?, ?)',\n",
    "               (data['musteri_id'], data['odeme_tarihi'], 'alacak', data['odeme_tutari'], f\"Ödeme ID {cursor.lastrowid}: {data['aciklama']}\"))\n",
    "\n",
    "        conn.commit()\n",
    "    return {'mesaj': 'Ödeme ve cari hareket eklendi'}"
   ]
  },
  {
   "cell_type": "code",
   "execution_count": 11,
   "id": "e6910bed-13d9-40f8-abab-0d09638cf040",
   "metadata": {},
   "outputs": [],
   "source": [
    "@app.route('/odeme_guncelle/<int:odeme_id>', methods=['PUT'])\n",
    "def odeme_guncelle(odeme_id):\n",
    "    data = request.get_json()\n",
    "    if not data or not all(k in data for k in ('musteri_id', 'odeme_tarihi', 'odeme_tutari', 'aciklama')):\n",
    "        return jsonify({'hata': 'Eksik alan'}), 400\n",
    "    with sqlite3.connect(DB_NAME) as conn:\n",
    "        cursor = conn.cursor()\n",
    "        # Ödeme güncelle\n",
    "        cursor.execute('''\n",
    "            UPDATE odemeler\n",
    "            SET musteri_id = ?, odeme_tarihi = ?, odeme_tutari = ?, aciklama = ?\n",
    "            WHERE id = ?\n",
    "        ''', (data['musteri_id'], data['odeme_tarihi'], data['odeme_tutari'], data['aciklama'], odeme_id))\n",
    "\n",
    "        cursor.execute('''\n",
    "            UPDATE cari_hareket\n",
    "            SET musteri_id = ?, tarih = ?, tutar = ?, aciklama = ?\n",
    "            WHERE islem_turu = 'alacak' AND aciklama LIKE ?\n",
    "        ''', (data['musteri_id'], data['odeme_tarihi'], data['odeme_tutari'], f\"Ödeme ID {odeme_id}: {data['aciklama']}\", f\"%Ödeme ID {odeme_id}:%\"))\n",
    "\n",
    "        # Not: Daha gelişmiş ilişkilendirme yapılabilir\n",
    "        conn.commit()\n",
    "    return {'mesaj': 'Ödeme ve cari hareket güncellendi'}"
   ]
  },
  {
   "cell_type": "code",
   "execution_count": 12,
   "id": "2022f898-f91b-4bac-afbb-3bb66f4a9d21",
   "metadata": {},
   "outputs": [],
   "source": [
    "@app.route('/musteri/<int:musteri_id>/odemeler', methods=['GET'])\n",
    "def musterinin_odemeleri(musteri_id):\n",
    "    with sqlite3.connect(DB_NAME) as conn:\n",
    "        conn.row_factory = sqlite3.Row\n",
    "        cursor = conn.cursor()\n",
    "        cursor.execute('SELECT * FROM odemeler WHERE musteri_id = ?', (musteri_id,))\n",
    "        odemeler = [dict(row) for row in cursor.fetchall()]\n",
    "    return jsonify(odemeler)"
   ]
  },
  {
   "cell_type": "markdown",
   "id": "2548ddc0-0916-4f0c-84ba-8fb7426bf251",
   "metadata": {},
   "source": [
    "## Cari Hesap Endpointi"
   ]
  },
  {
   "cell_type": "code",
   "execution_count": 13,
   "id": "940ea598-4119-4f31-90f6-52f64b8713f0",
   "metadata": {},
   "outputs": [],
   "source": [
    "@app.route('/cari_bakiye/<int:musteri_id>', methods=['GET'])\n",
    "def cari_bakiye(musteri_id):\n",
    "    with sqlite3.connect(DB_NAME) as conn:\n",
    "        cursor = conn.cursor()\n",
    "        cursor.execute('''\n",
    "            SELECT \n",
    "                SUM(CASE WHEN islem_turu = 'borc' THEN tutar ELSE 0 END) AS toplam_borc,\n",
    "                SUM(CASE WHEN islem_turu = 'alacak' THEN tutar ELSE 0 END) AS toplam_alacak\n",
    "            FROM cari_hareket\n",
    "            WHERE musteri_id = ?\n",
    "        ''', (musteri_id,))\n",
    "        row = cursor.fetchone()\n",
    "        toplam_borc = row[0] if row[0] else 0\n",
    "        toplam_alacak = row[1] if row[1] else 0\n",
    "        bakiye = toplam_borc - toplam_alacak\n",
    "    return jsonify({'toplam_borc': toplam_borc, 'toplam_alacak': toplam_alacak, 'bakiye': bakiye})"
   ]
  },
  {
   "cell_type": "code",
   "execution_count": null,
   "id": "e908a9c4-47d2-4260-9a8e-57c42f6ce126",
   "metadata": {},
   "outputs": [
    {
     "name": "stdout",
     "output_type": "stream",
     "text": [
      " * Serving Flask app '__main__'\n",
      " * Debug mode: on\n"
     ]
    },
    {
     "name": "stderr",
     "output_type": "stream",
     "text": [
      "WARNING: This is a development server. Do not use it in a production deployment. Use a production WSGI server instead.\n",
      " * Running on http://127.0.0.1:5000\n",
      "Press CTRL+C to quit\n",
      "127.0.0.1 - - [16/Jun/2025 05:07:21] \"GET /musteriler HTTP/1.1\" 200 -\n",
      "127.0.0.1 - - [16/Jun/2025 05:07:29] \"GET /musteri/1/faturalar HTTP/1.1\" 200 -\n",
      "127.0.0.1 - - [16/Jun/2025 05:07:36] \"PUT /fatura_guncelle/1 HTTP/1.1\" 200 -\n",
      "127.0.0.1 - - [16/Jun/2025 05:07:39] \"PUT /odeme_guncelle/1 HTTP/1.1\" 200 -\n",
      "127.0.0.1 - - [16/Jun/2025 05:07:41] \"GET /musteri/1/odemeler HTTP/1.1\" 200 -\n",
      "127.0.0.1 - - [16/Jun/2025 05:07:46] \"GET /cari_bakiye/1 HTTP/1.1\" 200 -\n"
     ]
    }
   ],
   "source": [
    "if __name__ == '__main__':\n",
    "    veritabani_olustur()\n",
    "    app.run(debug=True, use_reloader=False)\n"
   ]
  }
 ],
 "metadata": {
  "kernelspec": {
   "display_name": "Python [conda env:base] *",
   "language": "python",
   "name": "conda-base-py"
  },
  "language_info": {
   "codemirror_mode": {
    "name": "ipython",
    "version": 3
   },
   "file_extension": ".py",
   "mimetype": "text/x-python",
   "name": "python",
   "nbconvert_exporter": "python",
   "pygments_lexer": "ipython3",
   "version": "3.12.7"
  }
 },
 "nbformat": 4,
 "nbformat_minor": 5
}
